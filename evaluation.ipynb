{
 "cells": [
  {
   "cell_type": "code",
   "execution_count": 1,
   "metadata": {
    "ExecuteTime": {
     "end_time": "2019-05-20T20:48:00.443415Z",
     "start_time": "2019-05-20T20:48:00.287510Z"
    }
   },
   "outputs": [],
   "source": [
    "%matplotlib inline\n",
    "import warnings\n",
    "warnings.filterwarnings('ignore')"
   ]
  },
  {
   "cell_type": "code",
   "execution_count": 2,
   "metadata": {
    "ExecuteTime": {
     "end_time": "2019-05-20T20:48:00.858601Z",
     "start_time": "2019-05-20T20:48:00.444772Z"
    }
   },
   "outputs": [],
   "source": [
    "import pandas as pd\n",
    "import numpy as np\n",
    "import matplotlib.pyplot as plt\n",
    "import seaborn as sns\n",
    "import scipy.stats as stats\n",
    "import random\n",
    "from Hidden_NB import Hidden_NB\n",
    "from sklearn.preprocessing import KBinsDiscretizer\n",
    "from sklearn.model_selection import train_test_split\n",
    "from sklearn.naive_bayes import MultinomialNB\n",
    "from sklearn.metrics import classification_report\n",
    "from sklearn.metrics import precision_score\n",
    "from sklearn.metrics import f1_score\n",
    "from sklearn.metrics import recall_score\n",
    "from copy import deepcopy\n",
    "from sklearn.model_selection import cross_validate\n",
    "from sklearn.model_selection import KFold"
   ]
  },
  {
   "cell_type": "markdown",
   "metadata": {},
   "source": [
    "# Introduction\n",
    "\n",
    "The goal of this notebook is to compare the classification ability of the Hidden Naive Bayes Classifier that of the Multinomial Bayes Classifier on the balance-scale dataset.  The balance-scale dataset was chosen because it only includes only integer features, with which both classifiers are compatible.  In the future, more datasets should be used to confirm the results of this notebook."
   ]
  },
  {
   "cell_type": "markdown",
   "metadata": {},
   "source": [
    "# Importing and Splitting Data\n",
    "\n",
    "The balance-scale data set contains 625 records with 4 features and 1 target.  The 4 features are all integer."
   ]
  },
  {
   "cell_type": "code",
   "execution_count": 3,
   "metadata": {
    "ExecuteTime": {
     "end_time": "2019-05-20T20:48:00.867654Z",
     "start_time": "2019-05-20T20:48:00.859933Z"
    }
   },
   "outputs": [
    {
     "name": "stdout",
     "output_type": "stream",
     "text": [
      "<class 'pandas.core.frame.DataFrame'>\n",
      "RangeIndex: 625 entries, 0 to 624\n",
      "Data columns (total 5 columns):\n",
      "class             625 non-null object\n",
      "left_weight       625 non-null int64\n",
      "left_distance     625 non-null int64\n",
      "right_weight      625 non-null int64\n",
      "right_distance    625 non-null int64\n",
      "dtypes: int64(4), object(1)\n",
      "memory usage: 24.5+ KB\n"
     ]
    }
   ],
   "source": [
    "balance = pd.read_csv('./balance-scale.data', names=['class', 'left_weight', 'left_distance', \n",
    "                                                       'right_weight', 'right_distance'])\n",
    "balance.info()"
   ]
  },
  {
   "cell_type": "markdown",
   "metadata": {},
   "source": [
    "First, the data will need to be split into a training set and test set (later, with cross-validation, this will be performed within the cross-validation function)."
   ]
  },
  {
   "cell_type": "code",
   "execution_count": 4,
   "metadata": {
    "ExecuteTime": {
     "end_time": "2019-05-20T20:48:00.873188Z",
     "start_time": "2019-05-20T20:48:00.869342Z"
    }
   },
   "outputs": [],
   "source": [
    "X = balance.drop(columns=['class'])\n",
    "y = balance['class']\n",
    "X_train, X_test, y_train, y_test = train_test_split(X, y, test_size=0.20,\n",
    "                                                         random_state=33)"
   ]
  },
  {
   "cell_type": "markdown",
   "metadata": {
    "ExecuteTime": {
     "end_time": "2019-05-20T03:42:06.359449Z",
     "start_time": "2019-05-20T03:42:06.356606Z"
    }
   },
   "source": [
    "We'll also take a quick look at the distributions of the varieties so that we can choose proper evaluation metrics."
   ]
  },
  {
   "cell_type": "code",
   "execution_count": 5,
   "metadata": {
    "ExecuteTime": {
     "end_time": "2019-05-20T20:48:00.879709Z",
     "start_time": "2019-05-20T20:48:00.874875Z"
    }
   },
   "outputs": [
    {
     "data": {
      "text/plain": [
       "L    288\n",
       "R    288\n",
       "B     49\n",
       "Name: class, dtype: int64"
      ]
     },
     "execution_count": 5,
     "metadata": {},
     "output_type": "execute_result"
    }
   ],
   "source": [
    "balance['class'].value_counts()"
   ]
  },
  {
   "cell_type": "markdown",
   "metadata": {},
   "source": [
    "The classes are not balanced so micro evaluation measures will be used."
   ]
  },
  {
   "cell_type": "markdown",
   "metadata": {},
   "source": [
    "# Classification Reports\n",
    "\n",
    "A classification report will now be generated for the Hidden Naive Bayes classifier and the Naive Bayes Multinomial Classifier."
   ]
  },
  {
   "cell_type": "code",
   "execution_count": 6,
   "metadata": {
    "ExecuteTime": {
     "end_time": "2019-05-20T20:48:00.882758Z",
     "start_time": "2019-05-20T20:48:00.880725Z"
    }
   },
   "outputs": [],
   "source": [
    "np.random.seed(4252)"
   ]
  },
  {
   "cell_type": "markdown",
   "metadata": {},
   "source": [
    "First, a classification report for the Naive Bayes Multinomial Classifier will be generated to set a baseline."
   ]
  },
  {
   "cell_type": "code",
   "execution_count": 7,
   "metadata": {
    "ExecuteTime": {
     "end_time": "2019-05-20T20:48:00.895230Z",
     "start_time": "2019-05-20T20:48:00.883854Z"
    }
   },
   "outputs": [
    {
     "name": "stdout",
     "output_type": "stream",
     "text": [
      "              precision    recall  f1-score   support\n",
      "\n",
      "           B       0.00      0.00      0.00        12\n",
      "           L       0.97      0.95      0.96        60\n",
      "           R       0.77      0.96      0.86        53\n",
      "\n",
      "   micro avg       0.86      0.86      0.86       125\n",
      "   macro avg       0.58      0.64      0.61       125\n",
      "weighted avg       0.79      0.86      0.82       125\n",
      "\n"
     ]
    },
    {
     "name": "stderr",
     "output_type": "stream",
     "text": [
      "/home/sam/anaconda3/lib/python3.7/site-packages/sklearn/metrics/classification.py:1143: UndefinedMetricWarning: Precision and F-score are ill-defined and being set to 0.0 in labels with no predicted samples.\n",
      "  'precision', 'predicted', average, warn_for)\n",
      "/home/sam/anaconda3/lib/python3.7/site-packages/sklearn/metrics/classification.py:1143: UndefinedMetricWarning: Precision and F-score are ill-defined and being set to 0.0 in labels with no predicted samples.\n",
      "  'precision', 'predicted', average, warn_for)\n",
      "/home/sam/anaconda3/lib/python3.7/site-packages/sklearn/metrics/classification.py:1143: UndefinedMetricWarning: Precision and F-score are ill-defined and being set to 0.0 in labels with no predicted samples.\n",
      "  'precision', 'predicted', average, warn_for)\n"
     ]
    }
   ],
   "source": [
    "mnb = MultinomialNB()\n",
    "mnb.fit(X_train, y_train)\n",
    "y_predict = mnb.predict(X_test)\n",
    "print(classification_report(y_test, y_predict))"
   ]
  },
  {
   "cell_type": "markdown",
   "metadata": {
    "ExecuteTime": {
     "end_time": "2019-05-20T00:20:57.665781Z",
     "start_time": "2019-05-20T00:20:57.663424Z"
    }
   },
   "source": [
    "Now the same will be done with the Hidden Naive Bayes Classifier."
   ]
  },
  {
   "cell_type": "code",
   "execution_count": 8,
   "metadata": {
    "ExecuteTime": {
     "end_time": "2019-05-20T20:48:01.277932Z",
     "start_time": "2019-05-20T20:48:00.896243Z"
    }
   },
   "outputs": [
    {
     "name": "stdout",
     "output_type": "stream",
     "text": [
      "              precision    recall  f1-score   support\n",
      "\n",
      "           B       0.50      0.17      0.25        12\n",
      "           L       0.90      0.93      0.92        60\n",
      "           R       0.86      0.96      0.91        53\n",
      "\n",
      "   micro avg       0.87      0.87      0.87       125\n",
      "   macro avg       0.76      0.69      0.69       125\n",
      "weighted avg       0.85      0.87      0.85       125\n",
      "\n"
     ]
    }
   ],
   "source": [
    "hnb = Hidden_NB()\n",
    "hnb.fit(X_train, y_train)\n",
    "y_predict = hnb.predict(X_test)\n",
    "print(classification_report(y_test, y_predict))"
   ]
  },
  {
   "cell_type": "markdown",
   "metadata": {},
   "source": [
    "Notice how the Multinomial Naive Bayes classifier was not able to classify any of the class 'B' whereas the Hidden Naive Bayes classifier was able to 2 of them.\n",
    "\n",
    "Using these numbers alone would suggest that the Hidden Naive Bayes Classifier performs better in terms of precision and recall.  However, these numbers are generated from a single random test set so strong conclusions cannot be drawn.\n",
    "\n"
   ]
  },
  {
   "cell_type": "markdown",
   "metadata": {},
   "source": [
    "# Cross Validation Bootstrap\n",
    "\n",
    "For a more complete comparison of the two classifiers performance, a 10 fold cross-validation will performed 3 times and bootstrap samples will be taken from the scores to develop a credible interval for each."
   ]
  },
  {
   "cell_type": "code",
   "execution_count": 9,
   "metadata": {
    "ExecuteTime": {
     "end_time": "2019-05-20T20:48:01.280725Z",
     "start_time": "2019-05-20T20:48:01.278978Z"
    }
   },
   "outputs": [],
   "source": [
    "np.random.seed(90392)"
   ]
  },
  {
   "cell_type": "code",
   "execution_count": 10,
   "metadata": {
    "ExecuteTime": {
     "end_time": "2019-05-20T20:48:01.284498Z",
     "start_time": "2019-05-20T20:48:01.281778Z"
    }
   },
   "outputs": [],
   "source": [
    "def bootstrap_sample(data, f, n=100):\n",
    "    \n",
    "    results = []\n",
    "    for _ in range(n):\n",
    "        sample = np.random.choice(data, len(data), replace=True)\n",
    "        r = f(sample)\n",
    "        results.append(r)\n",
    "    \n",
    "    return np.array(results)"
   ]
  },
  {
   "cell_type": "code",
   "execution_count": 11,
   "metadata": {
    "ExecuteTime": {
     "end_time": "2019-05-20T20:48:01.291586Z",
     "start_time": "2019-05-20T20:48:01.285857Z"
    }
   },
   "outputs": [],
   "source": [
    "def multi_cross_val(data, target, estimator, cv=5, n=6):\n",
    "    \n",
    "    scores = {'precision': np.array([]), \n",
    "              'recall': np.array([]),\n",
    "              'f1': np.array([])}\n",
    "    \n",
    "    \n",
    "    for _ in range(n):\n",
    "        \n",
    "        kf = KFold(n_splits=cv, shuffle=True)\n",
    "        \n",
    "        for train_index, test_index in kf.split(data):\n",
    "            \n",
    "            train = data.loc[train_index]\n",
    "            test = data.loc[test_index]\n",
    "            \n",
    "            estimator.fit(train.drop(columns=[target]), train[target])\n",
    "            y_predict = estimator.predict(test.drop(columns=[target]))\n",
    "            precision = precision_score(test[target], y_predict, average='micro')\n",
    "            recall = recall_score(test[target], y_predict, average='micro')\n",
    "            f1 = f1_score(test[target], y_predict, average='micro')\n",
    "            \n",
    "        \n",
    "            scores['precision'] = np.append(scores['precision'], precision)\n",
    "            scores['recall'] = np.append(scores['recall'], recall)\n",
    "            scores['f1'] = np.append(scores['f1'], f1)\n",
    "        \n",
    "    return scores"
   ]
  },
  {
   "cell_type": "markdown",
   "metadata": {},
   "source": [
    "**Multinomial Naive Bayes Classifier** cross-validation bootstrap"
   ]
  },
  {
   "cell_type": "code",
   "execution_count": 12,
   "metadata": {
    "ExecuteTime": {
     "end_time": "2019-05-20T20:48:01.426315Z",
     "start_time": "2019-05-20T20:48:01.292623Z"
    }
   },
   "outputs": [
    {
     "name": "stdout",
     "output_type": "stream",
     "text": [
      "precision Resample Mean: 0.871\n",
      "95% Credible Interval for precision:  [0.868,0.88 ]\n",
      "recall Resample Mean: 0.872\n",
      "95% Credible Interval for recall:  [0.869,0.88 ]\n",
      "f1 Resample Mean: 0.871\n",
      "95% Credible Interval for f1:  [0.868,0.879]\n"
     ]
    }
   ],
   "source": [
    "# Get scores\n",
    "scores_mnb = multi_cross_val(balance, 'class', MultinomialNB())\n",
    "\n",
    "# Resample Scores\n",
    "precision_mnb_resample = bootstrap_sample(scores_mnb[\"precision\"], np.mean)\n",
    "recall_mnb_resample = bootstrap_sample(scores_mnb[\"recall\"], np.mean)\n",
    "f1_mnb_resample = bootstrap_sample(scores_mnb[\"f1\"], np.mean)\n",
    "\n",
    "# Find credible intervals\n",
    "precision_mnb_cred = np.array2string(stats.mstats.mquantiles(precision_mnb_resample, [0.25, .975]), precision=3, separator=',')\n",
    "recall_mnb_cred = np.array2string(stats.mstats.mquantiles(recall_mnb_resample, [0.25, .975]), precision=3, separator=',')\n",
    "f1_mnb_cred = np.array2string(stats.mstats.mquantiles(f1_mnb_resample, [0.25, .975]), precision=3, separator=',')\n",
    "\n",
    "# Print results\n",
    "print(\"precision Resample Mean: {0:.3f}\".format(np.mean(precision_mnb_resample)))\n",
    "print(\"95% Credible Interval for precision: \", precision_mnb_cred)\n",
    "print(\"recall Resample Mean: {0:.3f}\".format(np.mean(recall_mnb_resample)))\n",
    "print(\"95% Credible Interval for recall: \", recall_mnb_cred)\n",
    "print(\"f1 Resample Mean: {0:.3f}\".format(np.mean(f1_mnb_resample)))\n",
    "print(\"95% Credible Interval for f1: \", f1_mnb_cred)"
   ]
  },
  {
   "cell_type": "markdown",
   "metadata": {},
   "source": [
    "**Hidden Naive Bayes Classifier** cross-validation bootstrap"
   ]
  },
  {
   "cell_type": "code",
   "execution_count": 13,
   "metadata": {
    "ExecuteTime": {
     "end_time": "2019-05-20T20:48:12.390024Z",
     "start_time": "2019-05-20T20:48:01.427417Z"
    }
   },
   "outputs": [
    {
     "name": "stdout",
     "output_type": "stream",
     "text": [
      "precision Resample Mean: 0.880\n",
      "95% Credible Interval for precision:  [0.877,0.89 ]\n",
      "recall Resample Mean: 0.880\n",
      "95% Credible Interval for recall:  [0.877,0.889]\n",
      "f1 Resample Mean: 0.881\n",
      "95% Credible Interval for f1:  [0.878,0.89 ]\n"
     ]
    }
   ],
   "source": [
    "# Get scores\n",
    "scores_hnb = multi_cross_val(balance, 'class', Hidden_NB())\n",
    "\n",
    "# Resample Scores\n",
    "precision_hnb_resample = bootstrap_sample(scores_hnb[\"precision\"], np.mean)\n",
    "recall_hnb_resample = bootstrap_sample(scores_hnb[\"recall\"], np.mean)\n",
    "f1_hnb_resample = bootstrap_sample(scores_hnb[\"f1\"], np.mean)\n",
    "\n",
    "# Find credible intervals\n",
    "precision_hnb_cred = np.array2string(stats.mstats.mquantiles(precision_hnb_resample, [0.25, .975]), precision=3, separator=',')\n",
    "recall_hnb_cred = np.array2string(stats.mstats.mquantiles(recall_hnb_resample, [0.25, .975]), precision=3, separator=',')\n",
    "f1_hnb_cred = np.array2string(stats.mstats.mquantiles(f1_hnb_resample, [0.25, .975]), precision=3, separator=',')\n",
    "\n",
    "# Print results\n",
    "print(\"precision Resample Mean: {0:.3f}\".format(np.mean(precision_hnb_resample)))\n",
    "print(\"95% Credible Interval for precision: \", precision_hnb_cred)\n",
    "print(\"recall Resample Mean: {0:.3f}\".format(np.mean(recall_hnb_resample)))\n",
    "print(\"95% Credible Interval for recall: \", recall_hnb_cred)\n",
    "print(\"f1 Resample Mean: {0:.3f}\".format(np.mean(f1_hnb_resample)))\n",
    "print(\"95% Credible Interval for f1: \", f1_hnb_cred)"
   ]
  },
  {
   "cell_type": "markdown",
   "metadata": {},
   "source": [
    "The credible intervals overlap with a slight advantage to the Hidden Naive Bayes Classifier. The distribution for each algorithm and each statistic will now be plotted with a histogram."
   ]
  },
  {
   "cell_type": "code",
   "execution_count": 14,
   "metadata": {
    "ExecuteTime": {
     "end_time": "2019-05-20T20:48:13.122891Z",
     "start_time": "2019-05-20T20:48:12.391329Z"
    }
   },
   "outputs": [
    {
     "data": {
      "image/png": "[encoded data removed]",
      "text/plain": [
       "<Figure size 1440x1080 with 6 Axes>"
      ]
     },
     "metadata": {
      "needs_background": "light"
     },
     "output_type": "display_data"
    }
   ],
   "source": [
    "figure = plt.figure(figsize=(20, 15))\n",
    "\n",
    "axes = figure.add_subplot(2, 3, 1)\n",
    "axes.hist(precision_hnb_resample, color='firebrick', density=True)\n",
    "axes.set_ylabel(\"Density\")\n",
    "axes.set_xlabel(\"precision\")\n",
    "axes.set_title(\"Histogram: Hidden Naive Bayes Classifier - precision\")\n",
    "axes.set_xlim([.86, .90])\n",
    "\n",
    "axes = figure.add_subplot(2, 3, 4)\n",
    "axes.hist(precision_mnb_resample, color='firebrick', density=True)\n",
    "axes.set_ylabel(\"Density\")\n",
    "axes.set_xlabel(\"$precision$\")\n",
    "axes.set_title(\"Histogram: Multinomial Naive Bayes Classifier - precision\")\n",
    "axes.set_xlim([.86, .90])\n",
    "\n",
    "\n",
    "axes = figure.add_subplot(2, 3, 2)\n",
    "axes.hist(recall_hnb_resample, color='steelblue', density=True)\n",
    "axes.set_ylabel(\"Density\")\n",
    "axes.set_xlabel(\"recall\")\n",
    "axes.set_title(\"Histogram: Hidden Naive Bayes Classifier - recall\")\n",
    "axes.set_xlim([.86, .89])\n",
    "\n",
    "axes = figure.add_subplot(2, 3, 5)\n",
    "axes.hist(recall_mnb_resample, color='steelblue', density=True)\n",
    "axes.set_ylabel(\"Density\")\n",
    "axes.set_xlabel(\"recall\")\n",
    "axes.set_title(\"Histogram: Multinomial Naive Bayes Classifier - recall\")\n",
    "axes.set_xlim([.86, .89])\n",
    "\n",
    "axes = figure.add_subplot(2, 3, 3)\n",
    "axes.hist(f1_hnb_resample, color='thistle', density=True)\n",
    "axes.set_ylabel(\"Density\")\n",
    "axes.set_xlabel(\"f1\")\n",
    "axes.set_title(\"Histogram: Hidden Naive Bayes Classifier - f1\")\n",
    "axes.set_xlim([.855, .895])\n",
    "\n",
    "axes = figure.add_subplot(2, 3, 6)\n",
    "axes.hist(f1_mnb_resample, color='thistle', density=True)\n",
    "axes.set_ylabel(\"Density\")\n",
    "axes.set_xlabel(\"f1\")\n",
    "axes.set_title(\"Histogram: Multinomial Naive Bayes Classifier - f1\")\n",
    "axes.set_xlim([.855, .895])\n",
    "\n",
    "plt.show()\n",
    "plt.close()"
   ]
  },
  {
   "cell_type": "markdown",
   "metadata": {},
   "source": [
    "While each distribution overlaps, it's clear that the Hidden Naive Bayes Classifier scores in better with all statistics.  Now, the difference will be plotted."
   ]
  },
  {
   "cell_type": "code",
   "execution_count": 15,
   "metadata": {
    "ExecuteTime": {
     "end_time": "2019-05-20T20:48:13.126267Z",
     "start_time": "2019-05-20T20:48:13.124006Z"
    }
   },
   "outputs": [],
   "source": [
    "difference = {}\n",
    "difference[\"precision\"] = precision_hnb_resample - precision_mnb_resample\n",
    "difference[\"recall\"] = recall_hnb_resample - recall_mnb_resample\n",
    "difference[\"f1\"] = f1_hnb_resample - f1_mnb_resample"
   ]
  },
  {
   "cell_type": "code",
   "execution_count": 16,
   "metadata": {
    "ExecuteTime": {
     "end_time": "2019-05-20T20:48:13.468913Z",
     "start_time": "2019-05-20T20:48:13.127458Z"
    },
    "scrolled": false
   },
   "outputs": [
    {
     "data": {
      "text/plain": [
       "Text(0.5, 1.0, 'Histogram: Difference - f1')"
      ]
     },
     "execution_count": 16,
     "metadata": {},
     "output_type": "execute_result"
    },
    {
     "data": {
      "image/png": "[encoded data removed]",
      "text/plain": [
       "<Figure size 1440x576 with 3 Axes>"
      ]
     },
     "metadata": {
      "needs_background": "light"
     },
     "output_type": "display_data"
    }
   ],
   "source": [
    "figure = plt.figure(figsize=(20, 8))\n",
    "\n",
    "axes = figure.add_subplot(1, 3, 1)\n",
    "axes.hist(difference[\"precision\"], color='firebrick', density=True)\n",
    "axes.set_ylabel(\"Density\")\n",
    "axes.set_xlabel(\"precision\")\n",
    "axes.set_title(\"Histogram: Difference - precision\")\n",
    "\n",
    "axes = figure.add_subplot(1, 3, 2)\n",
    "axes.hist(difference[\"recall\"], color='steelblue', density=True)\n",
    "axes.set_ylabel(\"Density\")\n",
    "axes.set_xlabel(\"recall\")\n",
    "axes.set_title(\"Histogram: Difference - recall\")\n",
    "\n",
    "axes = figure.add_subplot(1, 3, 3)\n",
    "axes.hist(difference[\"f1\"], color='thistle', density=True)\n",
    "axes.set_ylabel(\"Density\")\n",
    "axes.set_xlabel(\"f1\")\n",
    "axes.set_title(\"Histogram: Difference - f1\")"
   ]
  },
  {
   "cell_type": "code",
   "execution_count": 17,
   "metadata": {
    "ExecuteTime": {
     "end_time": "2019-05-20T20:48:13.473011Z",
     "start_time": "2019-05-20T20:48:13.470081Z"
    }
   },
   "outputs": [
    {
     "name": "stdout",
     "output_type": "stream",
     "text": [
      "P(precision Hidden Naive Bayes > precision Multinomial Naive Bayes) =  0.9\n",
      "P(recall Hidden Naive Bayes < recall Multinomial Naive Bayes) =  0.91\n",
      "P(f1 Hidden Naive Bayes < recall Multinomial Naive Bayes) =  0.97\n"
     ]
    }
   ],
   "source": [
    "print(\"P(precision Hidden Naive Bayes > precision Multinomial Naive Bayes) = \", np.mean(difference[\"precision\"]>0))\n",
    "print(\"P(recall Hidden Naive Bayes < recall Multinomial Naive Bayes) = \", np.mean(difference[\"recall\"]>0))\n",
    "print(\"P(f1 Hidden Naive Bayes < recall Multinomial Naive Bayes) = \", np.mean(difference[\"f1\"]>0))"
   ]
  },
  {
   "cell_type": "markdown",
   "metadata": {},
   "source": [
    "This suggests that the Hidden Naive Bayes Classifier almost certainly performs better in general on the balance-scale dataset in terms of precision, recall, and f1.  Further testing on other datasets would need to be performed to confirm this in general.  However, in the original paper, \"A Novel Bayes Model: Hidden Naive Bayes\" by Jiang, Zhang, and Chai, the authors tested the algorithm on a variety of datasets where it classified more accurately than the standard Naive Bayes Classifier as well as other similar algorithms. "
   ]
  }
 ],
 "metadata": {
  "hide_input": false,
  "kernelspec": {
   "display_name": "Python 3",
   "language": "python",
   "name": "python3"
  },
  "language_info": {
   "codemirror_mode": {
    "name": "ipython",
    "version": 3
   },
   "file_extension": ".py",
   "mimetype": "text/x-python",
   "name": "python",
   "nbconvert_exporter": "python",
   "pygments_lexer": "ipython3",
   "version": "3.7.1"
  },
  "toc": {
   "base_numbering": 1,
   "nav_menu": {},
   "number_sections": true,
   "sideBar": true,
   "skip_h1_title": false,
   "title_cell": "Table of Contents",
   "title_sidebar": "Contents",
   "toc_cell": false,
   "toc_position": {},
   "toc_section_display": true,
   "toc_window_display": false
  },
  "varInspector": {
   "cols": {
    "lenName": 16,
    "lenType": 16,
    "lenVar": 40
   },
   "kernels_config": {
    "python": {
     "delete_cmd_postfix": "",
     "delete_cmd_prefix": "del ",
     "library": "var_list.py",
     "varRefreshCmd": "print(var_dic_list())"
    },
    "r": {
     "delete_cmd_postfix": ") ",
     "delete_cmd_prefix": "rm(",
     "library": "var_list.r",
     "varRefreshCmd": "cat(var_dic_list()) "
    }
   },
   "types_to_exclude": [
    "module",
    "function",
    "builtin_function_or_method",
    "instance",
    "_Feature"
   ],
   "window_display": false
  }
 },
 "nbformat": 4,
 "nbformat_minor": 2
}
